{
 "cells": [
  {
   "cell_type": "code",
   "execution_count": 19,
   "metadata": {},
   "outputs": [
    {
     "data": {
      "text/plain": [
       "['나는', '최근', '파리', '여행을', '다녀왔다']"
      ]
     },
     "execution_count": 19,
     "metadata": {},
     "output_type": "execute_result"
    }
   ],
   "source": [
    "input_text = \"나는 최근 파리 여행을 다녀왔다\"\n",
    "input_text_list = input_text.split()\n",
    "\n",
    "input_text_list"
   ]
  },
  {
   "cell_type": "code",
   "execution_count": 20,
   "metadata": {},
   "outputs": [
    {
     "name": "stdout",
     "output_type": "stream",
     "text": [
      "{'나는': 0, '최근': 1, '파리': 2, '여행을': 3, '다녀왔다': 4}\n",
      "{0: '나는', 1: '최근', 2: '파리', 3: '여행을', 4: '다녀왔다'}\n"
     ]
    }
   ],
   "source": [
    "str2idx = {word:idx for idx, word in enumerate(input_text_list)}\n",
    "idx2str = {idx:word for idx, word in enumerate(input_text_list)}\n",
    "\n",
    "print(str2idx)\n",
    "print(idx2str)"
   ]
  },
  {
   "cell_type": "code",
   "execution_count": 21,
   "metadata": {},
   "outputs": [
    {
     "data": {
      "text/plain": [
       "[0, 1, 2, 3, 4]"
      ]
     },
     "execution_count": 21,
     "metadata": {},
     "output_type": "execute_result"
    }
   ],
   "source": [
    "input_ids = [str2idx[word] for word in input_text_list]\n",
    "input_ids"
   ]
  },
  {
   "cell_type": "code",
   "execution_count": 22,
   "metadata": {},
   "outputs": [],
   "source": [
    "import torch\n",
    "import torch.nn as nn"
   ]
  },
  {
   "cell_type": "code",
   "execution_count": 23,
   "metadata": {},
   "outputs": [],
   "source": [
    "embedding_dims = 16\n",
    "embed_layer = nn.Embedding(len(str2idx), embedding_dim=embedding_dims)"
   ]
  },
  {
   "cell_type": "code",
   "execution_count": 24,
   "metadata": {},
   "outputs": [
    {
     "data": {
      "text/plain": [
       "torch.Size([1, 5, 16])"
      ]
     },
     "execution_count": 24,
     "metadata": {},
     "output_type": "execute_result"
    }
   ],
   "source": [
    "input_embeddings = embed_layer(torch.tensor(input_ids))\n",
    "input_embeddings = input_embeddings.unsqueeze(0)\n",
    "input_embeddings.shape"
   ]
  },
  {
   "cell_type": "code",
   "execution_count": 25,
   "metadata": {},
   "outputs": [
    {
     "data": {
      "text/plain": [
       "torch.Size([1, 5, 16])"
      ]
     },
     "execution_count": 25,
     "metadata": {},
     "output_type": "execute_result"
    }
   ],
   "source": [
    "embedding_dim = 16\n",
    "max_position = 12\n",
    "embed_layer = nn.Embedding(len(str2idx), embedding_dim)\n",
    "position_embed_layer = nn.Embedding(max_position, embedding_dim)\n",
    "\n",
    "position_ids = torch.arange(len(input_ids), dtype=torch.long).unsqueeze(0)\n",
    "position_encodings = position_embed_layer(position_ids)\n",
    "token_embeddings = embed_layer(torch.tensor(input_ids))\n",
    "token_embeddings = token_embeddings.unsqueeze(0)\n",
    "input_embeddings = token_embeddings + position_encodings\n",
    "\n",
    "input_embeddings.shape"
   ]
  },
  {
   "cell_type": "code",
   "execution_count": 26,
   "metadata": {},
   "outputs": [],
   "source": [
    "head_dim = 16\n",
    "\n",
    "weight_q = nn.Linear(embedding_dim, head_dim)\n",
    "weight_k = nn.Linear(embedding_dim, head_dim)\n",
    "weight_v = nn.Linear(embedding_dim, head_dim)\n",
    "\n",
    "querys = weight_q(input_embeddings)\n",
    "keys = weight_k(input_embeddings)\n",
    "values = weight_v(input_embeddings)"
   ]
  },
  {
   "cell_type": "code",
   "execution_count": 27,
   "metadata": {},
   "outputs": [],
   "source": [
    "from math import sqrt\n",
    "import torch.nn.functional as F\n",
    "\n",
    "def compute_attention(querys, keys, values, is_causal=False):\n",
    "    dim_k = querys.size(-1)\n",
    "    scores = querys @ keys.transpose(-2, -1) / sqrt(dim_k)\n",
    "    if is_causal:\n",
    "        query_length = querys.size(2)\n",
    "        key_length = keys.size(2)\n",
    "        # query_length x key_length 크기의 1로 채워진 행렬을 만들고 tril로 하삼각 행렬 생성\n",
    "        mask = torch.tril(torch.ones(query_length, key_length))\n",
    "        mask = mask.type(torch.BoolTensor)\n",
    "        scores = scores.masked_fill(mask == False, -float('inf'))\n",
    "    weights = F.softmax(scores, dim=-1)\n",
    "    return weights @ values"
   ]
  },
  {
   "cell_type": "code",
   "execution_count": 28,
   "metadata": {},
   "outputs": [
    {
     "name": "stdout",
     "output_type": "stream",
     "text": [
      "원본 입력 형태 :  torch.Size([1, 5, 16])\n",
      "어텐션 적용 후 입력 형태 :  torch.Size([1, 5, 16])\n"
     ]
    }
   ],
   "source": [
    "print(\"원본 입력 형태 : \", input_embeddings.shape)\n",
    "\n",
    "after_attention_embeddings = compute_attention(querys, keys, values)\n",
    "\n",
    "print(\"어텐션 적용 후 입력 형태 : \", after_attention_embeddings.shape)"
   ]
  },
  {
   "cell_type": "code",
   "execution_count": 29,
   "metadata": {},
   "outputs": [],
   "source": [
    "class AttentionHead(nn.Module):\n",
    "\n",
    "    def __init__(self, token_embed_dim, head_dim, is_causal=False):\n",
    "        super().__init__()\n",
    "        \n",
    "        self.weight_q = nn.Linear(token_embed_dim, head_dim)\n",
    "        self.weight_k = nn.Linear(token_embed_dim, head_dim)\n",
    "        self.weight_v = nn.Linear(token_embed_dim, head_dim)\n",
    "        self.is_causal = is_causal\n",
    "\n",
    "    def forward(self, querys, keys, values):\n",
    "        output = compute_attention(self.weight_q(querys), self.weight_k(keys), self.weight_v(values), self.is_causal)\n",
    "        return output\n",
    "        \n"
   ]
  },
  {
   "cell_type": "code",
   "execution_count": 30,
   "metadata": {},
   "outputs": [],
   "source": [
    "import torch.nn as nn\n",
    "class MultiHeadAttention(nn.Module):\n",
    "\n",
    "\n",
    "    def __init__(self, token_embed_dim, d_model, n_head, is_causal=False):\n",
    "        super().__init__()\n",
    "\n",
    "        self.n_head = n_head\n",
    "        self.is_causal = is_causal\n",
    "\n",
    "        self.weight_q = nn.Linear(token_embed_dim, d_model)\n",
    "        self.weight_k = nn.Linear(token_embed_dim, d_model)\n",
    "        self.weight_v = nn.Linear(token_embed_dim, d_model)\n",
    "        self.concat_linear = nn.Linear(d_model, d_model)\n",
    "\n",
    "    def forward(self, querys, keys, values):\n",
    "        # B: batch size (배치 크기)\n",
    "        # T: sequence length (시퀀스/토큰 길이)\n",
    "        # C: embedding dimension (임베딩 차원)\n",
    "        B, T, C = querys.size()\n",
    "\n",
    "        # 1. Linear 변환으로 d_model 차원으로 변환 (B, T, d_model)\n",
    "        # 2. view로 (B, T, n_head, head_dim)으로 나누기\n",
    "        #    - d_model을 n_head와 head_dim(d_model/n_head)로 분할\n",
    "        # 3. transpose로 (B, n_head, T, head_dim)으로 변환\n",
    "        #    - head 차원을 앞으로 가져와서 각 head가 독립적인 (T, head_dim) 행렬을 볼 수 있게 됨\n",
    "        #    - compute_attention은 (B, n_head, T, head_dim) 형태의 입력을 받아\n",
    "        #      각 head별로 독립적으로 attention 연산을 수행할 수 있음\n",
    "        querys = self.weight_q(querys).view(B, T, self.n_head, C // self.n_head).transpose(1, 2)\n",
    "        keys = self.weight_k(keys).view(B, T, self.n_head, C // self.n_head).transpose(1, 2)\n",
    "        values = self.weight_v(values).view(B, T, self.n_head, C // self.n_head).transpose(1, 2)\n",
    "        # 4. 각 헤드에서 어텐션 계산\n",
    "        # compute_attention을 통해 각 헤드별로 어텐션 스코어를 계산\n",
    "        # attention shape: (batch, n_head, seq_len, head_dim)\n",
    "        attention = compute_attention(querys, keys, values, self.is_causal)\n",
    "        \n",
    "        # 5. 헤드 차원을 다시 원래대로 되돌리는 과정\n",
    "        # transpose(1,2)로 (batch, seq_len, n_head, head_dim) 형태로 변환\n",
    "        # contiguous()는 메모리상 연속적으로 배치하여 view 연산을 가능하게 함\n",
    "        # view를 통해 (batch, seq_len, d_model) 형태로 모든 헤드의 결과를 하나로 합침\n",
    "        output = attention.transpose(1, 2).contiguous().view(B, T, C)\n",
    "\n",
    "        # 5. 최종적으로 모든 헤드의 결과를 결합하여 최종 출력 생성\n",
    "        output = self.concat_linear(output)\n",
    "\n",
    "        return output"
   ]
  },
  {
   "cell_type": "code",
   "execution_count": 31,
   "metadata": {},
   "outputs": [
    {
     "name": "stdout",
     "output_type": "stream",
     "text": [
      "어텐션 적용 후 입력 형태 :  torch.Size([1, 5, 16])\n"
     ]
    }
   ],
   "source": [
    "n_head = 4\n",
    "mh_attention = MultiHeadAttention(token_embed_dim=16, d_model=16, n_head=4)\n",
    "after_mh_attention_embeddings = mh_attention(input_embeddings, input_embeddings, input_embeddings)\n",
    "\n",
    "print(\"어텐션 적용 후 입력 형태 : \", after_mh_attention_embeddings.shape)"
   ]
  },
  {
   "cell_type": "code",
   "execution_count": 32,
   "metadata": {},
   "outputs": [
    {
     "name": "stdout",
     "output_type": "stream",
     "text": [
      "레이어 노말 적용 후 입력 형태 :  torch.Size([1, 5, 16])\n"
     ]
    },
    {
     "data": {
      "text/plain": [
       "(tensor([[-2.2352e-08, -1.4901e-08,  0.0000e+00, -2.9802e-08, -2.9802e-08]],\n",
       "        grad_fn=<MeanBackward1>),\n",
       " tensor([[1.0328, 1.0328, 1.0328, 1.0328, 1.0328]]))"
      ]
     },
     "execution_count": 32,
     "metadata": {},
     "output_type": "execute_result"
    }
   ],
   "source": [
    "norm = nn.LayerNorm(embedding_dim)\n",
    "norm_x = norm(input_embeddings)\n",
    "\n",
    "print(\"레이어 노말 적용 후 입력 형태 : \", norm_x.shape)\n",
    "\n",
    "# dim은 연산을 수행할 차원(dimension)을 지정합니다.\n",
    "# norm_x의 shape는 [1, 5, 16]입니다:\n",
    "# - dim=0: 배치(batch) 차원 (크기 1)\n",
    "# - dim=1: 시퀀스(sequence) 차원 (크기 5) \n",
    "# - dim=2: 임베딩(embedding) 차원 (크기 16)\n",
    "\n",
    "# dim=-1은 마지막 차원을 의미합니다. 여기서는 dim=2와 동일\n",
    "# 즉, 임베딩 차원(16)을 따라 평균과 표준편차를 계산합니다.\n",
    "# 결과 shape는 [1, 5]가 됩니다 (마지막 차원이 제거됨)\n",
    "norm_x.mean(dim=-1), norm_x.std(dim=-1).data"
   ]
  },
  {
   "cell_type": "code",
   "execution_count": 33,
   "metadata": {},
   "outputs": [],
   "source": [
    "class PreLayerNormFeedForward(nn.Module):\n",
    "\n",
    "    def __init__(self, d_model, dim_feedforward, dropout):\n",
    "        super().__init__()\n",
    "        self.linear1 = nn.Linear(d_model, dim_feedforward)\n",
    "        self.linear2 = nn.Linear(dim_feedforward, d_model)\n",
    "        self.dropout1 = nn.Dropout(dropout)\n",
    "        self.dropout2 = nn.Dropout(dropout)\n",
    "        self.activation = nn.GELU()\n",
    "        self.norm = nn.LayerNorm(d_model)\n",
    "\n",
    "    def forward(self, x):\n",
    "        x = self.norm(x)\n",
    "        x = x + self.linear2(self.dropout1(self.activation(self.linear1(x))))\n",
    "        x = self.dropout2(x)\n",
    "        return x"
   ]
  },
  {
   "cell_type": "code",
   "execution_count": 34,
   "metadata": {},
   "outputs": [],
   "source": [
    "class TransformerEncoderLayer(nn.Module):\n",
    "\n",
    "    def __init__(self, d_model, n_head, dim_feedforward, dropout):\n",
    "        super().__init__()\n",
    "        self.attn = MultiHeadAttention(token_embed_dim=d_model, d_model=d_model, n_head=n_head)\n",
    "        self.norm1 = nn.LayerNorm(d_model)\n",
    "        self.dropout1 = nn.Dropout(dropout)\n",
    "        self.feed_forward = PreLayerNormFeedForward(d_model, dim_feedforward, dropout)\n",
    "\n",
    "    def forward(self, src):\n",
    "        norm_x = self.norm1(src)\n",
    "        attn_output = self.attn(norm_x, norm_x, norm_x)\n",
    "        x = src + self.dropout1(attn_output)\n",
    "        x = self.feed_forward(x)\n",
    "        return x\n",
    "    "
   ]
  },
  {
   "cell_type": "code",
   "execution_count": 35,
   "metadata": {},
   "outputs": [],
   "source": [
    "import copy\n",
    "\n",
    "def get_clones(module, N):\n",
    "    return nn.ModuleList([copy.deepcopy(module) for _ in range(N)])"
   ]
  },
  {
   "cell_type": "code",
   "execution_count": 36,
   "metadata": {},
   "outputs": [],
   "source": [
    "class TransformerEncoder(nn.Module):\n",
    "\n",
    "    def __init__(self, encoder_layer, num_layers):\n",
    "        super().__init__()\n",
    "        self.layers = get_clones(encoder_layer, num_layers)\n",
    "        self.num_layers = num_layers\n",
    "        self.norm = norm\n",
    "\n",
    "    def forward(self, src):\n",
    "        output = src\n",
    "        for mod in self.layers:\n",
    "            output = mod(output)\n",
    "        return output"
   ]
  },
  {
   "cell_type": "code",
   "execution_count": 37,
   "metadata": {},
   "outputs": [
    {
     "ename": "_IncompleteInputError",
     "evalue": "incomplete input (3818031527.py, line 1)",
     "output_type": "error",
     "traceback": [
      "  \u001b[36mCell\u001b[39m\u001b[36m \u001b[39m\u001b[32mIn[37]\u001b[39m\u001b[32m, line 1\u001b[39m\n\u001b[31m    \u001b[39m\u001b[31mclass TransformerDecoderLayer(nn.Module):\u001b[39m\n                                             ^\n\u001b[31m_IncompleteInputError\u001b[39m\u001b[31m:\u001b[39m incomplete input\n"
     ]
    }
   ],
   "source": [
    "class TransformerDecoderLayer(nn.Module):\n",
    "    def __init__(self, d_model, n_head, dim_feedforward=2048, dropout=0.1):\n",
    "        super().__init__()\n",
    "        self.attn = MultiHeadAttention(token_embed_dim=d_model, d_model=d_model, n_head=n_head)\n",
    "        self.multihead_attn = MultiHeadAttention(token_embed_dim=d_model, d_model=d_model, n_head=n_head)\n",
    "        self.feed_forward = PreLayerNormFeedForward(d_model, dim_feedforward, dropout)\n",
    "\n",
    "        self.norm1 = nn.LayerNorm(d_model)\n",
    "        self.norm2 = nn.LayerNorm(d_model)\n",
    "        self.dropout1 = nn.Dropout(dropout)\n",
    "        self.dropout2 = nn.Dropout(dropout)\n",
    "\n",
    "    def forward(self, tgt, memory, is_causal=False):\n",
    "        norm_x = self.norm1(tgt)\n",
    "        nomr_x = self.dropout1(self.attn(norm_x, norm_x, norm_x))\n",
    "        norm_x = self.norm2(nomr_x)\n",
    "        x = norm_x + self.dropout2(self.multihead_attn(norm_x, memory, memory, is_causal))\n",
    "        x = self.feed_forward(x)\n",
    "        return x"
   ]
  },
  {
   "cell_type": "code",
   "execution_count": null,
   "metadata": {},
   "outputs": [],
   "source": []
  }
 ],
 "metadata": {
  "kernelspec": {
   "display_name": ".venv",
   "language": "python",
   "name": "python3"
  },
  "language_info": {
   "codemirror_mode": {
    "name": "ipython",
    "version": 3
   },
   "file_extension": ".py",
   "mimetype": "text/x-python",
   "name": "python",
   "nbconvert_exporter": "python",
   "pygments_lexer": "ipython3",
   "version": "3.13.1"
  }
 },
 "nbformat": 4,
 "nbformat_minor": 2
}
